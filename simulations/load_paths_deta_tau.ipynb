{
 "cells": [
  {
   "cell_type": "code",
   "execution_count": 5,
   "metadata": {
    "collapsed": true
   },
   "outputs": [],
   "source": [
    "import numpy as np\n",
    "import pandas as pd"
   ]
  },
  {
   "cell_type": "code",
   "execution_count": 6,
   "outputs": [],
   "source": [
    "\n",
    "MC = 1\n",
    "nColumns = 11\n",
    "factor = np.linspace(0,1,nColumns)"
   ],
   "metadata": {
    "collapsed": false,
    "pycharm": {
     "name": "#%%\n"
    }
   }
  },
  {
   "cell_type": "code",
   "execution_count": 7,
   "outputs": [],
   "source": [
    "\n",
    "\n",
    "CN = 48\n",
    "Folder = 'deltaTau/'\n",
    "\n",
    "rmse_vec = np.zeros((nColumns,MC))\n",
    "tau_los_vec = np.zeros((nColumns,MC))\n",
    "tau_nLos_vec = np.zeros((nColumns,MC))\n",
    "tau_los_est_vec = np.zeros((nColumns,MC))\n",
    "theta_los_vec = np.zeros((nColumns,MC))\n",
    "theta_nLos_vec = np.zeros((nColumns,MC))"
   ],
   "metadata": {
    "collapsed": false,
    "pycharm": {
     "name": "#%%\n"
    }
   }
  },
  {
   "cell_type": "code",
   "execution_count": 8,
   "outputs": [],
   "source": [
    "for ii in range(nColumns):\n",
    "    results = []\n",
    "    for jj in range(MC):\n",
    "        iteration = ii\n",
    "        pars = np.array([CN, iteration, jj]).astype('str')\n",
    "        file_results = Folder + pars[0] + '_' + pars[1] + '_' + pars[2] + '.pkl'\n",
    "\n",
    "        results.append(pd.read_pickle(file_results))\n",
    "\n",
    "    data_concat = pd.concat(results)\n",
    "\n",
    "    rmse_vec[ii,:]     = data_concat['rmse']\n",
    "    tau_los_vec[ii,:]  = data_concat['tau_los']\n",
    "    tau_nLos_vec[ii,:] = data_concat['tau_nlos']\n",
    "    theta_los_vec[ii,:]  = data_concat['theta_los']\n",
    "    theta_nLos_vec[ii,:] = data_concat['theta_nlos']\n",
    "    tau_los_est_vec[ii,:] = data_concat['tau_los_est']"
   ],
   "metadata": {
    "collapsed": false,
    "pycharm": {
     "name": "#%%\n"
    }
   }
  },
  {
   "cell_type": "code",
   "execution_count": 10,
   "outputs": [],
   "source": [
    "import  matplotlib.pyplot as plt"
   ],
   "metadata": {
    "collapsed": false,
    "pycharm": {
     "name": "#%%\n"
    }
   }
  },
  {
   "cell_type": "code",
   "execution_count": 15,
   "outputs": [
    {
     "data": {
      "text/plain": "<Figure size 432x288 with 1 Axes>",
      "image/png": "[encoded data removed]"
     },
     "metadata": {
      "needs_background": "light"
     },
     "output_type": "display_data"
    }
   ],
   "source": [
    "plt.plot(factor,rmse_vec)\n",
    "plt.ylim((0,2.5))\n",
    "plt.grid()\n",
    "plt.show()"
   ],
   "metadata": {
    "collapsed": false,
    "pycharm": {
     "name": "#%%\n"
    }
   }
  },
  {
   "cell_type": "code",
   "execution_count": null,
   "outputs": [],
   "source": [
    "\n"
   ],
   "metadata": {
    "collapsed": false,
    "pycharm": {
     "name": "#%%\n"
    }
   }
  }
 ],
 "metadata": {
  "kernelspec": {
   "display_name": "Python 3",
   "language": "python",
   "name": "python3"
  },
  "language_info": {
   "codemirror_mode": {
    "name": "ipython",
    "version": 2
   },
   "file_extension": ".py",
   "mimetype": "text/x-python",
   "name": "python",
   "nbconvert_exporter": "python",
   "pygments_lexer": "ipython2",
   "version": "2.7.6"
  }
 },
 "nbformat": 4,
 "nbformat_minor": 0
}