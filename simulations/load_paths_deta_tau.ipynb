{
 "cells": [
  {
   "cell_type": "code",
   "execution_count": 2,
   "metadata": {
    "collapsed": true
   },
   "outputs": [],
   "source": [
    "import numpy as np\n",
    "import pandas as pd"
   ]
  },
  {
   "cell_type": "code",
   "execution_count": 3,
   "outputs": [],
   "source": [
    "\n",
    "MC = 100\n",
    "nColumns = 11\n",
    "factor = np.linspace(0,1,nColumns)"
   ],
   "metadata": {
    "collapsed": false,
    "pycharm": {
     "name": "#%%\n"
    }
   }
  },
  {
   "cell_type": "code",
   "execution_count": 4,
   "outputs": [],
   "source": [
    "\n",
    "\n",
    "CN = 48\n",
    "Folder = 'deltaTau/'\n",
    "\n",
    "rmse_vec = np.zeros((nColumns,MC))\n",
    "tau_los_vec = np.zeros((nColumns,MC))\n",
    "tau_nLos_vec = np.zeros((nColumns,MC))\n",
    "tau_los_est_vec = np.zeros((nColumns,MC))\n",
    "theta_los_vec = np.zeros((nColumns,MC))\n",
    "theta_nLos_vec = np.zeros((nColumns,MC))"
   ],
   "metadata": {
    "collapsed": false,
    "pycharm": {
     "name": "#%%\n"
    }
   }
  },
  {
   "cell_type": "code",
   "execution_count": 5,
   "outputs": [],
   "source": [
    "for ii in range(nColumns):\n",
    "    results = []\n",
    "    for jj in range(MC):\n",
    "        iteration = ii\n",
    "        pars = np.array([CN, iteration, jj]).astype('str')\n",
    "        file_results = Folder + pars[0] + '_' + pars[1] + '_' + pars[2] + '.pkl'\n",
    "\n",
    "        results.append(pd.read_pickle(file_results))\n",
    "\n",
    "    data_concat = pd.concat(results)\n",
    "\n",
    "    rmse_vec[ii,:]     = data_concat['rmse']\n",
    "    tau_los_vec[ii,:]  = data_concat['tau_los']\n",
    "    tau_nLos_vec[ii,:] = data_concat['tau_nlos']\n",
    "    theta_los_vec[ii,:]  = data_concat['theta_los']\n",
    "    theta_nLos_vec[ii,:] = data_concat['theta_nlos']\n",
    "    tau_los_est_vec[ii,:] = data_concat['tau_los_est']"
   ],
   "metadata": {
    "collapsed": false,
    "pycharm": {
     "name": "#%%\n"
    }
   }
  },
  {
   "cell_type": "code",
   "execution_count": 6,
   "outputs": [],
   "source": [
    "import  matplotlib.pyplot as plt"
   ],
   "metadata": {
    "collapsed": false,
    "pycharm": {
     "name": "#%%\n"
    }
   }
  },
  {
   "cell_type": "code",
   "execution_count": 7,
   "outputs": [
    {
     "data": {
      "text/plain": "<Figure size 432x288 with 1 Axes>",
      "image/png": "[encoded data removed]"
     },
     "metadata": {
      "needs_background": "light"
     },
     "output_type": "display_data"
    },
    {
     "data": {
      "text/plain": "<Figure size 432x288 with 0 Axes>"
     },
     "metadata": {},
     "output_type": "display_data"
    }
   ],
   "source": [
    "fig = plt.figure(figsize=(6, 4))\n",
    "plt.plot(factor,np.mean(rmse_vec,axis=1))\n",
    "plt.ylim((0,0.5))\n",
    "plt.ylabel('RMSE(m)')\n",
    "plt.xlabel('\\Delta_tau / T_C')\n",
    "plt.grid()\n",
    "plt.show()\n",
    "plt.savefig('RMS.jpeg', dpi=fig.dpi)"
   ],
   "metadata": {
    "collapsed": false,
    "pycharm": {
     "name": "#%%\n"
    }
   }
  },
  {
   "cell_type": "code",
   "execution_count": 8,
   "outputs": [],
   "source": [
    "rmse_dict = {'factor':factor,\n",
    "             'rmse':np.mean(rmse_vec,axis=1)}\n",
    "\n",
    "rmse_df = pd.DataFrame(data=rmse_dict)\n",
    "\n"
   ],
   "metadata": {
    "collapsed": false,
    "pycharm": {
     "name": "#%%\n"
    }
   }
  },
  {
   "cell_type": "code",
   "execution_count": 9,
   "outputs": [],
   "source": [
    "rmse_df.to_csv('Latex_data/rmse_latex.csv')\n",
    "\n",
    "\n"
   ],
   "metadata": {
    "collapsed": false,
    "pycharm": {
     "name": "#%%\n"
    }
   }
  },
  {
   "cell_type": "code",
   "execution_count": 9,
   "outputs": [],
   "source": [
    "\n"
   ],
   "metadata": {
    "collapsed": false,
    "pycharm": {
     "name": "#%%\n"
    }
   }
  }
 ],
 "metadata": {
  "kernelspec": {
   "display_name": "Python 3",
   "language": "python",
   "name": "python3"
  },
  "language_info": {
   "codemirror_mode": {
    "name": "ipython",
    "version": 2
   },
   "file_extension": ".py",
   "mimetype": "text/x-python",
   "name": "python",
   "nbconvert_exporter": "python",
   "pygments_lexer": "ipython2",
   "version": "2.7.6"
  }
 },
 "nbformat": 4,
 "nbformat_minor": 0
}