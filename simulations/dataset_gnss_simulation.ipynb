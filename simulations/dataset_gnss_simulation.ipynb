{
 "cells": [
  {
   "cell_type": "code",
   "execution_count": 1,
   "metadata": {
    "collapsed": true
   },
   "outputs": [
    {
     "name": "stderr",
     "output_type": "stream",
     "text": [
      "Using numpy backend.\n"
     ]
    }
   ],
   "source": [
    "import numpy as np\n",
    "import pandas as pd\n",
    "import matplotlib.pyplot as plt\n",
    "from scipy.signal import find_peaks\n",
    "from bayopt.gaussian import MM_BSL\n",
    "from scipy.io import loadmat\n",
    "import tensorly as tl"
   ]
  },
  {
   "cell_type": "code",
   "execution_count": 2,
   "outputs": [],
   "source": [
    "nAntennas = 8\n",
    "B = 1.023e6\n",
    "Tc = 1/B\n",
    "T  = 1e-3\n",
    "IDsat = 20"
   ],
   "metadata": {
    "collapsed": false,
    "pycharm": {
     "name": "#%%\n"
    }
   }
  },
  {
   "cell_type": "code",
   "execution_count": 3,
   "outputs": [],
   "source": [
    "A_dict = loadmat('dataset/A.mat')\n",
    "A = A_dict['A']"
   ],
   "metadata": {
    "collapsed": false,
    "pycharm": {
     "name": "#%%\n"
    }
   }
  },
  {
   "cell_type": "code",
   "execution_count": 4,
   "outputs": [],
   "source": [
    "G_dict = loadmat('dataset/Gamma.mat')\n",
    "G = G_dict['Gamma']\n",
    "t = G_dict['taulos']"
   ],
   "metadata": {
    "collapsed": false,
    "pycharm": {
     "name": "#%%\n"
    }
   }
  },
  {
   "cell_type": "code",
   "execution_count": 5,
   "outputs": [],
   "source": [
    "Cq_dict = loadmat('dataset/CQw.mat')\n",
    "CQw = Cq_dict['CQw']"
   ],
   "metadata": {
    "collapsed": false,
    "pycharm": {
     "name": "#%%\n"
    }
   }
  },
  {
   "cell_type": "code",
   "execution_count": 6,
   "outputs": [],
   "source": [
    "tau_space = np.linspace(-Tc,Tc,22)\n",
    "B_dict = loadmat('dataset/bank_22.mat')\n",
    "B = B_dict['CQw'].T"
   ],
   "metadata": {
    "collapsed": false,
    "pycharm": {
     "name": "#%%\n"
    }
   }
  },
  {
   "cell_type": "code",
   "execution_count": 7,
   "outputs": [
    {
     "name": "stdout",
     "output_type": "stream",
     "text": [
      "(11, 22)\n",
      "(8, 2, 3)\n",
      "(2, 30, 2000)\n",
      "(2, 11, 11, 2000)\n"
     ]
    }
   ],
   "source": [
    "print(B.shape)\n",
    "print(A.shape)\n",
    "print(G.shape)\n",
    "print(CQw.shape)"
   ],
   "metadata": {
    "collapsed": false,
    "pycharm": {
     "name": "#%%\n"
    }
   }
  },
  {
   "cell_type": "code",
   "execution_count": null,
   "outputs": [],
   "source": [
    "M = A.shape[0]\n",
    "Q = CQw.shape[1]\n",
    "K = G.shape[1]"
   ],
   "metadata": {
    "collapsed": false,
    "pycharm": {
     "name": "#%%\n"
    }
   }
  },
  {
   "cell_type": "code",
   "execution_count": 9,
   "outputs": [],
   "source": [
    "# Construct post-correlated tensor signal\n",
    "def pos_signal_tensor(delta_angle_idx,MC_idx,delta_tau):\n",
    "    S = G[:,:,MC_idx].T @ tl.tenalg.khatri_rao([CQw[:,:,delta_tau,MC_idx].T, A[:,:,delta_angle_idx]]).T\n",
    "    return tl.tensor(S.reshape(K,Q,M))\n"
   ],
   "metadata": {
    "collapsed": false,
    "pycharm": {
     "name": "#%%\n"
    }
   }
  },
  {
   "cell_type": "code",
   "execution_count": 10,
   "outputs": [],
   "source": [
    "def noise():\n",
    "    N = 1 / np.sqrt(2) * (np.random.randn(K, Q*M) + 1j * np.random.randn(K, Q*M))\n",
    "    return tl.tensor(N.reshape(K,Q,M))"
   ],
   "metadata": {
    "collapsed": false,
    "pycharm": {
     "name": "#%%\n"
    }
   }
  },
  {
   "cell_type": "code",
   "execution_count": 11,
   "outputs": [],
   "source": [
    "def sparse_angle_delay_estimation(Tensor,B, A, a=9.5, b=0.4, c=8, d=9):\n",
    "    Y_filtered = tl.tenalg.mode_dot(Tensor,np.linalg.pinv(A),mode=2)\n",
    "    Y = tl.unfold(Y_filtered, mode=1)\n",
    "    beta, sigma, error = MM_BSL(B, Y, a, b, c, d,100)\n",
    "    return beta, sigma, error"
   ],
   "metadata": {
    "collapsed": false,
    "pycharm": {
     "name": "#%%\n"
    }
   }
  },
  {
   "cell_type": "code",
   "execution_count": 12,
   "outputs": [],
   "source": [
    "def sparse_delay_estimation(Tensor,B, a=0, b=0, c=0, d=0):\n",
    "    Y = tl.unfold(Tensor, mode=1)\n",
    "    beta, sigma, error = MM_BSL(B, Y, a, b, c, d,100)\n",
    "    return beta, sigma, error"
   ],
   "metadata": {
    "collapsed": false,
    "pycharm": {
     "name": "#%%\n"
    }
   }
  },
  {
   "cell_type": "code",
   "execution_count": 13,
   "outputs": [],
   "source": [
    "def rmse(tau_los_true,beta_tau):\n",
    "    #idx_peaks = find_peaks(np.fft.fftshift(np.sum(np.abs(beta_tau) ** 2, axis=1)))[0]\n",
    "    #idx_sort = np.flipud(np.argsort(np.fft.fftshift(np.sum(np.abs(beta_tau) ** 2, axis=1))[idx_peaks]))\n",
    "    #tau_est = np.abs(self.tau_space[idx_peaks[idx_sort]]\n",
    "    #tau_los_est = np.abs(tau_space[idx_peaks[idx_sort[0]]])\n",
    "    idx = np.argmax(np.sum(np.abs(beta_tau) ** 2, axis=1))\n",
    "    tau_los_est = tau_space[idx]\n",
    "    return 3e8 * np.abs(tau_los_true - tau_los_est),tau_los_est\n"
   ],
   "metadata": {
    "collapsed": false,
    "pycharm": {
     "name": "#%%\n"
    }
   }
  },
  {
   "cell_type": "code",
   "execution_count": 14,
   "outputs": [],
   "source": [
    "Y  = pos_signal_tensor(0,0,0) + noise()\n",
    "\n",
    "\n"
   ],
   "metadata": {
    "collapsed": false,
    "pycharm": {
     "name": "#%%\n"
    }
   }
  },
  {
   "cell_type": "code",
   "execution_count": 15,
   "outputs": [],
   "source": [
    "from bayes_opt.bayesian_optimization import BayesianOptimization"
   ],
   "metadata": {
    "collapsed": false,
    "pycharm": {
     "name": "#%%\n"
    }
   }
  },
  {
   "cell_type": "code",
   "execution_count": 16,
   "outputs": [],
   "source": [
    "def calibration_function(a,b,c,d):\n",
    "    #beta, sigma, error = sparse_angle_delay_estimation(Y,B,A[:,:,0],a,b,c,d)\n",
    "    beta, sigma, error = sparse_delay_estimation(Y,B,A[:,:,0],a,b,c,d)\n",
    "\n",
    "    return -error\n",
    "\n"
   ],
   "metadata": {
    "collapsed": false,
    "pycharm": {
     "name": "#%%\n"
    }
   }
  },
  {
   "cell_type": "code",
   "execution_count": 17,
   "outputs": [],
   "source": [
    "\n",
    "# Bounded region of parameter space\n",
    "pbounds = {'a': (0, 15), 'b': (0, 15),'c': (0, 15), 'd': (0, 15)}\n",
    "\n",
    "optimizer = BayesianOptimization(\n",
    "    f=calibration_function,\n",
    "    pbounds=pbounds,\n",
    "    random_state=1,\n",
    ")"
   ],
   "metadata": {
    "collapsed": false,
    "pycharm": {
     "name": "#%%\n"
    }
   }
  },
  {
   "cell_type": "code",
   "execution_count": 18,
   "outputs": [
    {
     "name": "stdout",
     "output_type": "stream",
     "text": [
      "|   iter    |  target   |     a     |     b     |     c     |     d     |\n",
      "-------------------------------------------------------------------------\n",
      "| \u001B[0m 1       \u001B[0m | \u001B[0m-1.369e+0\u001B[0m | \u001B[0m 6.255   \u001B[0m | \u001B[0m 10.8    \u001B[0m | \u001B[0m 0.001716\u001B[0m | \u001B[0m 4.535   \u001B[0m |\n",
      "| \u001B[0m 2       \u001B[0m | \u001B[0m-1.476e+0\u001B[0m | \u001B[0m 2.201   \u001B[0m | \u001B[0m 1.385   \u001B[0m | \u001B[0m 2.794   \u001B[0m | \u001B[0m 5.183   \u001B[0m |\n",
      "| \u001B[95m 3       \u001B[0m | \u001B[95m-7.529   \u001B[0m | \u001B[95m 5.952   \u001B[0m | \u001B[95m 8.082   \u001B[0m | \u001B[95m 6.288   \u001B[0m | \u001B[95m 10.28   \u001B[0m |\n",
      "| \u001B[0m 4       \u001B[0m | \u001B[0m-7.723   \u001B[0m | \u001B[0m 3.067   \u001B[0m | \u001B[0m 13.17   \u001B[0m | \u001B[0m 0.4108  \u001B[0m | \u001B[0m 10.06   \u001B[0m |\n",
      "| \u001B[0m 5       \u001B[0m | \u001B[0m-1.348e+0\u001B[0m | \u001B[0m 6.26    \u001B[0m | \u001B[0m 8.38    \u001B[0m | \u001B[0m 2.106   \u001B[0m | \u001B[0m 2.972   \u001B[0m |\n",
      "| \u001B[0m 6       \u001B[0m | \u001B[0m-9.389   \u001B[0m | \u001B[0m 12.01   \u001B[0m | \u001B[0m 14.52   \u001B[0m | \u001B[0m 4.701   \u001B[0m | \u001B[0m 10.38   \u001B[0m |\n",
      "| \u001B[0m 7       \u001B[0m | \u001B[0m-1.435e+0\u001B[0m | \u001B[0m 13.15   \u001B[0m | \u001B[0m 13.42   \u001B[0m | \u001B[0m 1.276   \u001B[0m | \u001B[0m 0.5858  \u001B[0m |\n",
      "| \u001B[95m 8       \u001B[0m | \u001B[95m-6.511   \u001B[0m | \u001B[95m 2.547   \u001B[0m | \u001B[95m 13.17   \u001B[0m | \u001B[95m 1.475   \u001B[0m | \u001B[95m 6.317   \u001B[0m |\n",
      "| \u001B[0m 9       \u001B[0m | \u001B[0m-10.47   \u001B[0m | \u001B[0m 14.37   \u001B[0m | \u001B[0m 7.997   \u001B[0m | \u001B[0m 10.38   \u001B[0m | \u001B[0m 4.733   \u001B[0m |\n",
      "| \u001B[0m 10      \u001B[0m | \u001B[0m-1.433e+0\u001B[0m | \u001B[0m 10.3    \u001B[0m | \u001B[0m 12.52   \u001B[0m | \u001B[0m 0.2743  \u001B[0m | \u001B[0m 11.25   \u001B[0m |\n",
      "| \u001B[0m 11      \u001B[0m | \u001B[0m-1.422e+0\u001B[0m | \u001B[0m 14.83   \u001B[0m | \u001B[0m 11.22   \u001B[0m | \u001B[0m 4.207   \u001B[0m | \u001B[0m 11.84   \u001B[0m |\n",
      "| \u001B[95m 12      \u001B[0m | \u001B[95m-5.18    \u001B[0m | \u001B[95m 1.548   \u001B[0m | \u001B[95m 6.718   \u001B[0m | \u001B[95m 13.63   \u001B[0m | \u001B[95m 4.404   \u001B[0m |\n",
      "| \u001B[0m 13      \u001B[0m | \u001B[0m-1.538e+0\u001B[0m | \u001B[0m 4.317   \u001B[0m | \u001B[0m 1.95    \u001B[0m | \u001B[0m 0.2905  \u001B[0m | \u001B[0m 10.18   \u001B[0m |\n",
      "| \u001B[0m 14      \u001B[0m | \u001B[0m-6.614   \u001B[0m | \u001B[0m 3.174   \u001B[0m | \u001B[0m 3.983   \u001B[0m | \u001B[0m 7.374   \u001B[0m | \u001B[0m 0.8004  \u001B[0m |\n",
      "| \u001B[0m 15      \u001B[0m | \u001B[0m-1.513e+0\u001B[0m | \u001B[0m 8.612   \u001B[0m | \u001B[0m 2.201   \u001B[0m | \u001B[0m 8.84    \u001B[0m | \u001B[0m 10.5    \u001B[0m |\n",
      "| \u001B[0m 16      \u001B[0m | \u001B[0m-5.499   \u001B[0m | \u001B[0m 1.535   \u001B[0m | \u001B[0m 6.211   \u001B[0m | \u001B[0m 10.42   \u001B[0m | \u001B[0m 6.213   \u001B[0m |\n",
      "| \u001B[95m 17      \u001B[0m | \u001B[95m-4.933   \u001B[0m | \u001B[95m 0.7493  \u001B[0m | \u001B[95m 8.038   \u001B[0m | \u001B[95m 9.957   \u001B[0m | \u001B[95m 7.723   \u001B[0m |\n",
      "| \u001B[0m 18      \u001B[0m | \u001B[0m-7.279   \u001B[0m | \u001B[0m 14.17   \u001B[0m | \u001B[0m 8.798   \u001B[0m | \u001B[0m 13.55   \u001B[0m | \u001B[0m 2.062   \u001B[0m |\n",
      "| \u001B[0m 19      \u001B[0m | \u001B[0m-5.43    \u001B[0m | \u001B[0m 2.089   \u001B[0m | \u001B[0m 12.11   \u001B[0m | \u001B[0m 5.965   \u001B[0m | \u001B[0m 2.48    \u001B[0m |\n",
      "| \u001B[0m 20      \u001B[0m | \u001B[0m-1.449e+0\u001B[0m | \u001B[0m 13.91   \u001B[0m | \u001B[0m 5.216   \u001B[0m | \u001B[0m 11.26   \u001B[0m | \u001B[0m 10.89   \u001B[0m |\n",
      "| \u001B[0m 21      \u001B[0m | \u001B[0m-6.529   \u001B[0m | \u001B[0m 2.405   \u001B[0m | \u001B[0m 13.33   \u001B[0m | \u001B[0m 1.379   \u001B[0m | \u001B[0m 7.852   \u001B[0m |\n",
      "| \u001B[0m 22      \u001B[0m | \u001B[0m-5.23    \u001B[0m | \u001B[0m 1.272   \u001B[0m | \u001B[0m 7.294   \u001B[0m | \u001B[0m 10.69   \u001B[0m | \u001B[0m 6.44    \u001B[0m |\n",
      "| \u001B[0m 23      \u001B[0m | \u001B[0m-8.519   \u001B[0m | \u001B[0m 14.32   \u001B[0m | \u001B[0m 8.299   \u001B[0m | \u001B[0m 11.29   \u001B[0m | \u001B[0m 3.818   \u001B[0m |\n",
      "| \u001B[0m 24      \u001B[0m | \u001B[0m-5.18    \u001B[0m | \u001B[0m 1.091   \u001B[0m | \u001B[0m 7.503   \u001B[0m | \u001B[0m 9.999   \u001B[0m | \u001B[0m 7.266   \u001B[0m |\n",
      "| \u001B[0m 25      \u001B[0m | \u001B[0m-8.497   \u001B[0m | \u001B[0m 11.79   \u001B[0m | \u001B[0m 15.0    \u001B[0m | \u001B[0m 5.111   \u001B[0m | \u001B[0m 10.18   \u001B[0m |\n",
      "=========================================================================\n"
     ]
    }
   ],
   "source": [
    "optimizer.maximize(\n",
    "    init_points=20,\n",
    "    n_iter=5,\n",
    ")"
   ],
   "metadata": {
    "collapsed": false,
    "pycharm": {
     "name": "#%%\n"
    }
   }
  },
  {
   "cell_type": "code",
   "execution_count": 19,
   "outputs": [
    {
     "name": "stdout",
     "output_type": "stream",
     "text": [
      "{'a': 0.7493018841913074, 'b': 8.038446088732673, 'c': 9.956919678296833, 'd': 7.723336680874628}\n"
     ]
    }
   ],
   "source": [
    "print(optimizer.max['params'])\n"
   ],
   "metadata": {
    "collapsed": false,
    "pycharm": {
     "name": "#%%\n"
    }
   }
  },
  {
   "cell_type": "code",
   "execution_count": 20,
   "outputs": [
    {
     "name": "stdout",
     "output_type": "stream",
     "text": [
      "-4.932667176713486\n"
     ]
    }
   ],
   "source": [
    "print(optimizer.max['target'])"
   ],
   "metadata": {
    "collapsed": false,
    "pycharm": {
     "name": "#%%\n"
    }
   }
  },
  {
   "cell_type": "code",
   "execution_count": 21,
   "outputs": [],
   "source": [
    "# Tau_los Estimation\n",
    "#beta, sigma, error = sparse_delay_estimation(Y,B)\n",
    "beta, sigma, error = sparse_angle_delay_estimation(Y,B,A[:,:,0],optimizer.max['params']['a'],optimizer.max['params']['b'],optimizer.max['params']['c'],optimizer.max['params']['d'])\n",
    "rmse,tau_est = rmse(t[0,0],beta)"
   ],
   "metadata": {
    "collapsed": false,
    "pycharm": {
     "name": "#%%\n"
    }
   }
  },
  {
   "cell_type": "code",
   "execution_count": 22,
   "outputs": [
    {
     "data": {
      "text/plain": "<Figure size 432x288 with 1 Axes>",
      "image/png": "[encoded data removed]"
     },
     "metadata": {
      "needs_background": "light"
     },
     "output_type": "display_data"
    }
   ],
   "source": [
    "plt.plot(tau_space/1e-7,np.mean(np.abs(beta)**2,axis=1))\n",
    "plt.show()"
   ],
   "metadata": {
    "collapsed": false,
    "pycharm": {
     "name": "#%%\n"
    }
   }
  },
  {
   "cell_type": "code",
   "execution_count": 23,
   "outputs": [
    {
     "name": "stdout",
     "output_type": "stream",
     "text": [
      "1.396453009356234e-07\n",
      "1.6692770582241164e-07\n",
      "8.184721466036477\n"
     ]
    }
   ],
   "source": [
    "print(tau_est)\n",
    "print(t[0,0])\n",
    "print(rmse)\n",
    "\n",
    "\n"
   ],
   "metadata": {
    "collapsed": false,
    "pycharm": {
     "name": "#%%\n"
    }
   }
  },
  {
   "cell_type": "code",
   "execution_count": 23,
   "outputs": [],
   "source": [
    "\n"
   ],
   "metadata": {
    "collapsed": false,
    "pycharm": {
     "name": "#%%\n"
    }
   }
  }
 ],
 "metadata": {
  "kernelspec": {
   "display_name": "Python 3",
   "language": "python",
   "name": "python3"
  },
  "language_info": {
   "codemirror_mode": {
    "name": "ipython",
    "version": 2
   },
   "file_extension": ".py",
   "mimetype": "text/x-python",
   "name": "python",
   "nbconvert_exporter": "python",
   "pygments_lexer": "ipython2",
   "version": "2.7.6"
  }
 },
 "nbformat": 4,
 "nbformat_minor": 0
}