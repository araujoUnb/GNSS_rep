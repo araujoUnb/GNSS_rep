{
 "cells": [
  {
   "cell_type": "code",
   "execution_count": 1,
   "metadata": {
    "collapsed": true
   },
   "outputs": [],
   "source": [
    "from gnss_func.gnss_function import ca_code\n",
    "import numpy as np\n",
    "from gnss_func.utils import conv_circ\n",
    "import matplotlib.pyplot as plt"
   ]
  },
  {
   "cell_type": "code",
   "execution_count": 2,
   "outputs": [],
   "source": [
    "n = 2 # where n is {0,1, ..., 31}\n",
    "PR = ca_code(n)\n"
   ],
   "metadata": {
    "collapsed": false,
    "pycharm": {
     "name": "#%%\n"
    }
   }
  },
  {
   "cell_type": "code",
   "execution_count": 3,
   "outputs": [],
   "source": [
    "B = 1023e6\n",
    "Tc = 1/B\n",
    "T  = 1e-3\n",
    "SAT = 20"
   ],
   "metadata": {
    "collapsed": false,
    "pycharm": {
     "name": "#%%\n"
    }
   }
  },
  {
   "cell_type": "code",
   "execution_count": 4,
   "outputs": [],
   "source": [
    "N  = 2*B*T # number of samples per frame\n",
    "f0 = 2*B/N\n",
    "samples = f0*(np.linspace(0,int(N)-1,int(N)) - (N/2 -1/2))"
   ],
   "metadata": {
    "collapsed": false,
    "pycharm": {
     "name": "#%%\n"
    }
   }
  },
  {
   "cell_type": "code",
   "execution_count": 5,
   "outputs": [],
   "source": [
    "satcode = ca_code(SAT)\n",
    "ca_code_length = satcode.size\n",
    "number_of_sequeces = int(N/ca_code_length)\n",
    "CA_fft = number_of_sequeces*np.kron(np.ones(number_of_sequeces),np.fft.fft(satcode))\n"
   ],
   "metadata": {
    "collapsed": false,
    "pycharm": {
     "name": "#%%\n"
    }
   }
  },
  {
   "cell_type": "code",
   "execution_count": 13,
   "outputs": [],
   "source": [
    "Ra_code = np.zeros(satcode.size)\n",
    "for ii in range(ca_code_length):\n",
    "    sat_shift = np.roll(satcode,ii)\n",
    "    Ra_code[ii] = sat_shift @ satcode/ca_code_length\n"
   ],
   "metadata": {
    "collapsed": false,
    "pycharm": {
     "name": "#%%\n"
    }
   }
  },
  {
   "cell_type": "code",
   "execution_count": 15,
   "outputs": [],
   "source": [
    "CA_SPEC = np.fft.fftshift(number_of_sequeces*np.kron(np.ones(number_of_sequeces),np.fft.fft(Ra_code)))\n"
   ],
   "metadata": {
    "collapsed": false,
    "pycharm": {
     "name": "#%%\n"
    }
   }
  },
  {
   "cell_type": "code",
   "execution_count": null,
   "outputs": [],
   "source": [
    "\n"
   ],
   "metadata": {
    "collapsed": false,
    "pycharm": {
     "name": "#%%\n"
    }
   }
  }
 ],
 "metadata": {
  "kernelspec": {
   "display_name": "Python 3",
   "language": "python",
   "name": "python3"
  },
  "language_info": {
   "codemirror_mode": {
    "name": "ipython",
    "version": 2
   },
   "file_extension": ".py",
   "mimetype": "text/x-python",
   "name": "python",
   "nbconvert_exporter": "python",
   "pygments_lexer": "ipython2",
   "version": "2.7.6"
  }
 },
 "nbformat": 4,
 "nbformat_minor": 0
}