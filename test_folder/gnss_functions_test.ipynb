{
 "cells": [
  {
   "cell_type": "code",
   "execution_count": 1,
   "metadata": {
    "collapsed": true
   },
   "outputs": [],
   "source": [
    "from gnss_func.gnss_function import ca_code, frequecy_domain_CA, correlator_bank_Q\n",
    "import numpy as np\n",
    "from gnss_func.utils import conv_circ\n",
    "import matplotlib.pyplot as plt"
   ]
  },
  {
   "cell_type": "code",
   "execution_count": 2,
   "outputs": [],
   "source": [
    "n = 2 # where n is {0,1, ..., 31}\n",
    "PR = ca_code(n)\n"
   ],
   "metadata": {
    "collapsed": false,
    "pycharm": {
     "name": "#%%\n"
    }
   }
  },
  {
   "cell_type": "code",
   "execution_count": 3,
   "outputs": [],
   "source": [
    "B = 1023e6\n",
    "Tc = 1/B\n",
    "T  = 1e-3\n",
    "SAT = 20"
   ],
   "metadata": {
    "collapsed": false,
    "pycharm": {
     "name": "#%%\n"
    }
   }
  },
  {
   "cell_type": "code",
   "execution_count": 4,
   "outputs": [
    {
     "name": "stdout",
     "output_type": "stream",
     "text": [
      "/Users/araujo/Documents/GitHub/GNSS_rep/CACODE/CA_FFT_20_1023000000.0.pkl\n"
     ]
    }
   ],
   "source": [
    "Folder = '/Users/araujo/Documents/GitHub/GNSS_rep/CACODE/CA_FFT_' + str(SAT) + '_' + str(B) + '.pkl'\n",
    "print(Folder)"
   ],
   "metadata": {
    "collapsed": false,
    "pycharm": {
     "name": "#%%\n"
    }
   }
  },
  {
   "cell_type": "code",
   "execution_count": 5,
   "outputs": [],
   "source": [
    "CA_FFT, CA_PSD = frequecy_domain_CA(B,T,SAT)"
   ],
   "metadata": {
    "collapsed": false,
    "pycharm": {
     "name": "#%%\n"
    }
   }
  },
  {
   "cell_type": "code",
   "execution_count": 6,
   "outputs": [],
   "source": [
    "N = 2 * B * T  # number of samples per frame\n",
    "f0 = 2 * B / N # basis frequency\n",
    "samples = f0 * (np.linspace(0, int(N) - 1, int(N)) - (N / 2 - 1 / 2))"
   ],
   "metadata": {
    "collapsed": false,
    "pycharm": {
     "name": "#%%\n"
    }
   }
  },
  {
   "cell_type": "code",
   "execution_count": 7,
   "outputs": [],
   "source": [
    "PULSE_SPEC = np.fft.fftshift(Tc * np.sinc(samples*Tc)**2) #GPS C/A code rectangular pulse\n",
    "PULSE_FFT  = np.fft.fftshift(np.sqrt(Tc) * np.sinc(samples*Tc)**2) #GPS C/A code rectangular pulse"
   ],
   "metadata": {
    "collapsed": false,
    "pycharm": {
     "name": "#%%\n"
    }
   }
  },
  {
   "cell_type": "code",
   "execution_count": 8,
   "outputs": [],
   "source": [
    "BANK_delay = np.array([1e-9, 1e-3, 0.1e-3])\n",
    "delay = np.array([0.5e-9, 0.1e-3])"
   ],
   "metadata": {
    "collapsed": false,
    "pycharm": {
     "name": "#%%\n"
    }
   }
  },
  {
   "cell_type": "code",
   "execution_count": 9,
   "outputs": [],
   "source": [
    "Q, C, CQ = correlator_bank_Q(B,Tc,T,BANK_delay,delay,CA_FFT)"
   ],
   "metadata": {
    "collapsed": false,
    "pycharm": {
     "name": "#%%\n"
    }
   }
  },
  {
   "cell_type": "code",
   "execution_count": 9,
   "outputs": [],
   "source": [],
   "metadata": {
    "collapsed": false,
    "pycharm": {
     "name": "#%%\n"
    }
   }
  },
  {
   "cell_type": "code",
   "execution_count": 9,
   "outputs": [],
   "source": [
    "\n"
   ],
   "metadata": {
    "collapsed": false,
    "pycharm": {
     "name": "#%%\n"
    }
   }
  }
 ],
 "metadata": {
  "kernelspec": {
   "display_name": "Python 3",
   "language": "python",
   "name": "python3"
  },
  "language_info": {
   "codemirror_mode": {
    "name": "ipython",
    "version": 2
   },
   "file_extension": ".py",
   "mimetype": "text/x-python",
   "name": "python",
   "nbconvert_exporter": "python",
   "pygments_lexer": "ipython2",
   "version": "2.7.6"
  }
 },
 "nbformat": 4,
 "nbformat_minor": 0
}