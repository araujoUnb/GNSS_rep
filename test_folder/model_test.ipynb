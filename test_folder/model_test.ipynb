{
 "cells": [
  {
   "cell_type": "code",
   "execution_count": 1,
   "metadata": {
    "collapsed": true
   },
   "outputs": [
    {
     "name": "stderr",
     "output_type": "stream",
     "text": [
      "Using numpy backend.\n"
     ]
    }
   ],
   "source": [
    "import numpy as np\n",
    "from gnss_func.model import single_polarization\n",
    "from gnss_func.utils import lin2dBm\n",
    "import tensorly as tl\n",
    "import matplotlib.pyplot as plt\n",
    "from bayopt.gaussian import MM_BSL\n",
    "from gnss_func.array import array_lin"
   ]
  },
  {
   "cell_type": "code",
   "execution_count": 2,
   "outputs": [],
   "source": [
    "nAntennas = 8\n",
    "B = 1023e6\n",
    "Tc = 1/B\n",
    "T  = 1e-3\n",
    "IDsat = 20\n",
    "\n",
    "factor = 0.8\n",
    "tau_los = 0.5*Tc\n",
    "tau_vec = np.array([tau_los,tau_los + factor*Tc])\n",
    "theta_deg_vec = np.array([44.5,55])\n",
    "number_of_epochs = 30\n",
    "delayGranularity = 11"
   ],
   "metadata": {
    "collapsed": false,
    "pycharm": {
     "name": "#%%\n"
    }
   }
  },
  {
   "cell_type": "code",
   "execution_count": 3,
   "outputs": [
    {
     "name": "stdout",
     "output_type": "stream",
     "text": [
      "[4.88758553e-10 1.27077224e-09]\n"
     ]
    }
   ],
   "source": [
    "print(tau_vec)"
   ],
   "metadata": {
    "collapsed": false,
    "pycharm": {
     "name": "#%%\n"
    }
   }
  },
  {
   "cell_type": "code",
   "execution_count": 4,
   "outputs": [],
   "source": [
    "gnss_model = single_polarization(nAntennas, B, T, Tc,delayGranularity, tau_vec, theta_deg_vec, number_of_epochs, IDsat,'Qw')\n"
   ],
   "metadata": {
    "collapsed": false,
    "pycharm": {
     "name": "#%%\n"
    }
   }
  },
  {
   "cell_type": "code",
   "execution_count": 5,
   "outputs": [],
   "source": [
    "gnss_model.rx_signal(40)"
   ],
   "metadata": {
    "collapsed": false,
    "pycharm": {
     "name": "#%%\n"
    }
   }
  },
  {
   "cell_type": "code",
   "execution_count": 6,
   "outputs": [],
   "source": [
    "from gnss_func.estimators import singlePolModel_estimator"
   ],
   "metadata": {
    "collapsed": false,
    "pycharm": {
     "name": "#%%\n"
    }
   }
  },
  {
   "cell_type": "code",
   "execution_count": 7,
   "outputs": [],
   "source": [
    "theta_deg_space = np.linspace(35,75,200)"
   ],
   "metadata": {
    "collapsed": false,
    "pycharm": {
     "name": "#%%\n"
    }
   }
  },
  {
   "cell_type": "code",
   "execution_count": 8,
   "outputs": [],
   "source": [
    "estimator_model = singlePolModel_estimator(gnss_model,delayGranularity,theta_deg_space)"
   ],
   "metadata": {
    "collapsed": false,
    "pycharm": {
     "name": "#%%\n"
    }
   }
  },
  {
   "cell_type": "code",
   "execution_count": 9,
   "outputs": [
    {
     "name": "stdout",
     "output_type": "stream",
     "text": [
      "[4.88758553e-10 1.27077224e-09]\n"
     ]
    }
   ],
   "source": [
    "print(tau_vec )"
   ],
   "metadata": {
    "collapsed": false,
    "pycharm": {
     "name": "#%%\n"
    }
   }
  },
  {
   "cell_type": "code",
   "execution_count": 25,
   "outputs": [
    {
     "name": "stdout",
     "output_type": "stream",
     "text": [
      "0.11988501386296992\n",
      "8.886519150448771e-10\n",
      "[8.88651915e-10 4.44325958e-10 7.99786724e-10 2.66595575e-10\n",
      " 7.10921532e-10 6.22056341e-10 0.00000000e+00]\n"
     ]
    }
   ],
   "source": [
    "print(estimator_model.rmse(tau_los))\n",
    "print(estimator_model.tau_los_est)\n",
    "print(estimator_model.tau_est)"
   ],
   "metadata": {
    "collapsed": false,
    "pycharm": {
     "name": "#%%\n"
    }
   }
  },
  {
   "cell_type": "code",
   "execution_count": 26,
   "outputs": [
    {
     "data": {
      "text/plain": "<Figure size 432x288 with 1 Axes>",
      "image/png": "[encoded data removed]"
     },
     "metadata": {
      "needs_background": "light"
     },
     "output_type": "display_data"
    }
   ],
   "source": [
    "estimator_model.plot_beta_tau()"
   ],
   "metadata": {
    "collapsed": false,
    "pycharm": {
     "name": "#%%\n"
    }
   }
  },
  {
   "cell_type": "code",
   "execution_count": 27,
   "outputs": [
    {
     "name": "stdout",
     "output_type": "stream",
     "text": [
      "0.11988501386296992\n",
      "8.886519150448771e-10\n",
      "[8.88651915e-10 6.22056341e-10 7.99786724e-10 6.22056341e-10\n",
      " 0.00000000e+00]\n"
     ]
    }
   ],
   "source": [
    "print(estimator_model.rmse_angle(tau_los))\n",
    "print(estimator_model.tau_los_est)\n",
    "print(estimator_model.tau_est)"
   ],
   "metadata": {
    "collapsed": false,
    "pycharm": {
     "name": "#%%\n"
    }
   }
  },
  {
   "cell_type": "code",
   "execution_count": 28,
   "outputs": [
    {
     "data": {
      "text/plain": "<Figure size 432x288 with 1 Axes>",
      "image/png": "[encoded data removed]"
     },
     "metadata": {
      "needs_background": "light"
     },
     "output_type": "display_data"
    }
   ],
   "source": [
    "estimator_model.plot_beta_tau()\n"
   ],
   "metadata": {
    "collapsed": false,
    "pycharm": {
     "name": "#%%\n"
    }
   }
  },
  {
   "cell_type": "code",
   "execution_count": 13,
   "outputs": [
    {
     "name": "stdout",
     "output_type": "stream",
     "text": [
      "7.109215320359016e-10\n",
      "4.887585532746823e-10\n"
     ]
    }
   ],
   "source": [
    "print(estimator_model.tau_los_est)\n",
    "print(tau_los)\n"
   ],
   "metadata": {
    "collapsed": false,
    "pycharm": {
     "name": "#%%\n"
    }
   }
  },
  {
   "cell_type": "code",
   "execution_count": 14,
   "outputs": [
    {
     "name": "stdout",
     "output_type": "stream",
     "text": [
      "[-9.77517107e-10 -8.88651915e-10 -7.99786724e-10 -7.10921532e-10\n",
      " -6.22056341e-10 -5.33191149e-10 -4.44325958e-10 -3.55460766e-10\n",
      " -2.66595575e-10 -1.77730383e-10 -8.88651915e-11  0.00000000e+00\n",
      "  8.88651915e-11  1.77730383e-10  2.66595575e-10  3.55460766e-10\n",
      "  4.44325958e-10  5.33191149e-10  6.22056341e-10  7.10921532e-10\n",
      "  7.99786724e-10  8.88651915e-10  9.77517107e-10]\n"
     ]
    }
   ],
   "source": [
    "print(estimator_model.tau_space)"
   ],
   "metadata": {
    "collapsed": false,
    "pycharm": {
     "name": "#%%\n"
    }
   }
  },
  {
   "cell_type": "code",
   "execution_count": 15,
   "outputs": [
    {
     "name": "stdout",
     "output_type": "stream",
     "text": [
      "1.8056464331332742\n",
      "60.0987563371216\n"
     ]
    }
   ],
   "source": [
    "print(gnss_model.tx_power)\n",
    "print(10*np.log10(B*T))\n"
   ],
   "metadata": {
    "collapsed": false,
    "pycharm": {
     "name": "#%%\n"
    }
   }
  },
  {
   "cell_type": "code",
   "execution_count": 16,
   "outputs": [],
   "source": [
    "Y = tl.unfold(gnss_model.rSignal, mode=2)\n",
    "R = Y @ np.conj(Y).T"
   ],
   "metadata": {
    "collapsed": false,
    "pycharm": {
     "name": "#%%\n"
    }
   }
  },
  {
   "cell_type": "code",
   "execution_count": 17,
   "outputs": [],
   "source": [
    "L,U= np.linalg.eig(R)"
   ],
   "metadata": {
    "collapsed": false,
    "pycharm": {
     "name": "#%%\n"
    }
   }
  },
  {
   "cell_type": "code",
   "execution_count": 18,
   "outputs": [],
   "source": [
    "Ru= U[:,2::] @ np.conj(U[:,2::]).T\n",
    "S = 1/(np.diag(np.conj(estimator_model.angle_basis).T @  Ru @ estimator_model.angle_basis))"
   ],
   "metadata": {
    "collapsed": false,
    "pycharm": {
     "name": "#%%\n"
    }
   }
  },
  {
   "cell_type": "code",
   "execution_count": 19,
   "outputs": [
    {
     "data": {
      "text/plain": "[<matplotlib.lines.Line2D at 0x124b05ee0>]"
     },
     "execution_count": 19,
     "metadata": {},
     "output_type": "execute_result"
    },
    {
     "data": {
      "text/plain": "<Figure size 432x288 with 1 Axes>",
      "image/png": "[encoded data removed]"
     },
     "metadata": {
      "needs_background": "light"
     },
     "output_type": "display_data"
    }
   ],
   "source": [
    "plt.plot(theta_deg_space,np.abs(S)**2)\n",
    "\n"
   ],
   "metadata": {
    "collapsed": false,
    "pycharm": {
     "name": "#%%\n"
    }
   }
  },
  {
   "cell_type": "code",
   "execution_count": 20,
   "outputs": [
    {
     "name": "stdout",
     "output_type": "stream",
     "text": [
      "[44.44723618 55.10050251]\n"
     ]
    }
   ],
   "source": [
    "print(estimator_model.theta_estimation())\n",
    "\n"
   ],
   "metadata": {
    "collapsed": false,
    "pycharm": {
     "name": "#%%\n"
    }
   }
  },
  {
   "cell_type": "code",
   "execution_count": 20,
   "outputs": [],
   "source": [
    "\n"
   ],
   "metadata": {
    "collapsed": false,
    "pycharm": {
     "name": "#%%\n"
    }
   }
  }
 ],
 "metadata": {
  "kernelspec": {
   "display_name": "Python 3",
   "language": "python",
   "name": "python3"
  },
  "language_info": {
   "codemirror_mode": {
    "name": "ipython",
    "version": 2
   },
   "file_extension": ".py",
   "mimetype": "text/x-python",
   "name": "python",
   "nbconvert_exporter": "python",
   "pygments_lexer": "ipython2",
   "version": "2.7.6"
  }
 },
 "nbformat": 4,
 "nbformat_minor": 0
}