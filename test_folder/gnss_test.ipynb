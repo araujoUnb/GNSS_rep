{
 "cells": [
  {
   "cell_type": "code",
   "execution_count": 1,
   "metadata": {
    "collapsed": true
   },
   "outputs": [],
   "source": [
    "import numpy as np\n",
    "import pandas as pd\n",
    "from os import path\n",
    "from gnss_func.gnss_function import frequecy_domain_CA, correlator_bank_Q, create_matrix_C, frequecy_domain_CA, PRN"
   ]
  },
  {
   "cell_type": "code",
   "execution_count": 16,
   "outputs": [],
   "source": [
    "sat_no = 20\t# satellite number\n",
    "Nd = 1023      # no. chips per PR seq.\n",
    "B = 1.023e6\t# chip seq. bandwidth\n",
    "Tc = 1/1.023e6 # chip period\n",
    "fc = 1575.42e6\t# carrier freq.\n",
    "T = 1e-3;"
   ],
   "metadata": {
    "collapsed": false,
    "pycharm": {
     "name": "#%%\n"
    }
   }
  },
  {
   "cell_type": "code",
   "execution_count": 17,
   "outputs": [],
   "source": [
    "#folder = '/Users/araujo/Documents/GitHub/GNSS_rep/CACODE/CA_FFT_ ' + str(sat_no) + '_' + str(B) + '.pkl'\n",
    "#bool = path.exists(folder)\n",
    "#if bool == False:\n",
    "#    CA_FFT, CA_PSD = frequecy_domain_CA(B, T, sat_no)\n",
    "#\n",
    "#    code_df = pd.read_pickle(folder)\n",
    "#    CA_FFT = code_df['CA_FFT']\n",
    "#    CA_PSD = code_df['CA_SPEC']\n",
    "CA_FFT, CA_PSD = frequecy_domain_CA(B, T, sat_no)"
   ],
   "metadata": {
    "collapsed": false,
    "pycharm": {
     "name": "#%%\n"
    }
   }
  },
  {
   "cell_type": "code",
   "execution_count": 18,
   "outputs": [],
   "source": [
    "L = 1      # delays\n",
    "d = 1 + L  # model order (1 source + L delays)\n",
    "m = 8      # no. of sensors in the array\n",
    "n = 2*Nd   # of snapshots (per period)\n",
    "k = 30     # seq. collection periods\n",
    "q = 11     # number of correlators"
   ],
   "metadata": {
    "collapsed": false,
    "pycharm": {
     "name": "#%%\n"
    }
   }
  },
  {
   "cell_type": "code",
   "execution_count": 19,
   "outputs": [],
   "source": [
    "C_N0 = 48      # carrier to noise density ratio C/N0 (dB-Hz)\n",
    "G = B*T        # processing gain (linear)\n",
    "SNR_dB = C_N0 - 10*np.log10(2*B) + 10*np.log10(G)\t# post-correlation SNR\n",
    "SMR_dB = 5        # Signal-to-Multipath Ratio"
   ],
   "metadata": {
    "collapsed": false,
    "pycharm": {
     "name": "#%%\n"
    }
   }
  },
  {
   "cell_type": "code",
   "execution_count": 20,
   "outputs": [],
   "source": [
    "angle_diff = 60\n",
    "delay_diff = np.linspace(0,1,11)"
   ],
   "metadata": {
    "collapsed": false,
    "pycharm": {
     "name": "#%%\n"
    }
   }
  },
  {
   "cell_type": "code",
   "execution_count": 21,
   "outputs": [],
   "source": [
    "BANK_delay = np.linspace(-Tc,Tc,q)\n",
    "delay = np.zeros(d)"
   ],
   "metadata": {
    "collapsed": false,
    "pycharm": {
     "name": "#%%\n"
    }
   }
  },
  {
   "cell_type": "code",
   "execution_count": 22,
   "outputs": [],
   "source": [
    "Q, C, CQ, tx_power = correlator_bank_Q(B, Tc, T, BANK_delay, delay, CA_FFT)\n",
    "\n"
   ],
   "metadata": {
    "collapsed": false,
    "pycharm": {
     "name": "#%%\n"
    }
   }
  },
  {
   "cell_type": "code",
   "execution_count": 23,
   "outputs": [
    {
     "name": "stdout",
     "output_type": "stream",
     "text": [
      "5.378753124118759e-05\n"
     ]
    }
   ],
   "source": [
    "print(Q[0,0])"
   ],
   "metadata": {
    "collapsed": false,
    "pycharm": {
     "name": "#%%\n"
    }
   }
  },
  {
   "cell_type": "code",
   "execution_count": 24,
   "outputs": [
    {
     "name": "stdout",
     "output_type": "stream",
     "text": [
      "0.00039649039140930974\n"
     ]
    }
   ],
   "source": [
    "print(C[0,0])\n",
    "\n"
   ],
   "metadata": {
    "collapsed": false,
    "pycharm": {
     "name": "#%%\n"
    }
   }
  },
  {
   "cell_type": "code",
   "execution_count": 25,
   "outputs": [
    {
     "name": "stdout",
     "output_type": "stream",
     "text": [
      "[26.         +0.j         17.21363412 -2.71222638j\n",
      " 19.51281044 -6.23890929j ... 25.40366116+12.61243946j\n",
      " 19.51281044 +6.23890929j 17.21363412 +2.71222638j]\n"
     ]
    }
   ],
   "source": [
    "print(CA_FFT)"
   ],
   "metadata": {
    "collapsed": false,
    "pycharm": {
     "name": "#%%\n"
    }
   }
  },
  {
   "cell_type": "code",
   "execution_count": 26,
   "outputs": [
    {
     "name": "stdout",
     "output_type": "stream",
     "text": [
      "[0.33040078+0.00000000e+00j 0.14841905+6.55725474e-16j\n",
      " 0.20511914+1.23165367e-16j ... 0.39316697+2.54019890e-16j\n",
      " 0.20511914-5.96392955e-16j 0.14841905-4.85327222e-16j]\n"
     ]
    }
   ],
   "source": [
    "print(CA_PSD)"
   ],
   "metadata": {
    "collapsed": false,
    "pycharm": {
     "name": "#%%\n"
    }
   }
  },
  {
   "cell_type": "code",
   "execution_count": 27,
   "outputs": [],
   "source": [
    "CA_fft, CA_SPEC = frequecy_domain_CA(B,T,sat_no)"
   ],
   "metadata": {
    "collapsed": false,
    "pycharm": {
     "name": "#%%\n"
    }
   }
  },
  {
   "cell_type": "code",
   "execution_count": 28,
   "outputs": [
    {
     "data": {
      "text/plain": "(26+0j)"
     },
     "execution_count": 28,
     "metadata": {},
     "output_type": "execute_result"
    }
   ],
   "source": [
    "CA_fft[0]"
   ],
   "metadata": {
    "collapsed": false,
    "pycharm": {
     "name": "#%%\n"
    }
   }
  },
  {
   "cell_type": "code",
   "execution_count": 15,
   "outputs": [],
   "source": [
    "\n"
   ],
   "metadata": {
    "collapsed": false,
    "pycharm": {
     "name": "#%%\n"
    }
   }
  }
 ],
 "metadata": {
  "kernelspec": {
   "display_name": "Python 3",
   "language": "python",
   "name": "python3"
  },
  "language_info": {
   "codemirror_mode": {
    "name": "ipython",
    "version": 2
   },
   "file_extension": ".py",
   "mimetype": "text/x-python",
   "name": "python",
   "nbconvert_exporter": "python",
   "pygments_lexer": "ipython2",
   "version": "2.7.6"
  }
 },
 "nbformat": 4,
 "nbformat_minor": 0
}